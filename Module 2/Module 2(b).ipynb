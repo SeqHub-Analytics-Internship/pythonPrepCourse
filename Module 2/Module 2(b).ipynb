{
 "cells": [
  {
   "cell_type": "markdown",
   "metadata": {},
   "source": [
    "## Understanding Lists\n",
    "\n",
    "A list is a collection of arbitrary objects. Lists are defined in Python by enclosing a comma-separated sequence of objects in square brackets ([]), as shown below:"
   ]
  },
  {
   "cell_type": "code",
   "execution_count": 1,
   "metadata": {},
   "outputs": [
    {
     "name": "stdout",
     "output_type": "stream",
     "text": [
      "['Alluminium', 'Bananas', 'Rice']\n",
      "<class 'list'>\n"
     ]
    }
   ],
   "source": [
    "lista=[\"Alluminium\", \"Bananas\", \"Rice\"]\n",
    "print(lista)\n",
    "print(type(lista))"
   ]
  },
  {
   "cell_type": "markdown",
   "metadata": {},
   "source": [
    "The important characteristics of Python lists are as follows:\n",
    "\n",
    "* Lists are ordered.\n",
    "* Lists can contain any arbitrary objects.\n",
    "* List elements can be accessed by index.\n",
    "* Lists are mutable.\n",
    "* Lists are dynamic.\n",
    "\n",
    "What does this mean?"
   ]
  },
  {
   "cell_type": "markdown",
   "metadata": {},
   "source": [
    "### Lists are ordered\n",
    "\n",
    "A list is not merely a collection of objects. It is an ordered collection of objects. The order in which you specify the elements when you define a list is an innate characteristic of that list and is maintained for that list’s lifetime.\n",
    "\n",
    "Lists that have the same elements in a different order are not the same:"
   ]
  },
  {
   "cell_type": "code",
   "execution_count": 3,
   "metadata": {},
   "outputs": [
    {
     "data": {
      "text/plain": [
       "False"
      ]
     },
     "execution_count": 3,
     "metadata": {},
     "output_type": "execute_result"
    }
   ],
   "source": [
    "lista = [\"Alluminium\", \"Bananas\", \"Rice\"]\n",
    "listb = [\"Rice\", \"Bananas\", \"Alluminium\"]\n",
    "\n",
    "lista == listb"
   ]
  },
  {
   "cell_type": "markdown",
   "metadata": {},
   "source": [
    "### Lists Can Contain Arbitrary Objects\n",
    "\n",
    "The elements of a list can all be the same type like we have seen in lista above(contains only strings) or the elements can be of varying types:\n"
   ]
  },
  {
   "cell_type": "code",
   "execution_count": 4,
   "metadata": {},
   "outputs": [
    {
     "name": "stdout",
     "output_type": "stream",
     "text": [
      "['string', 2, False]\n",
      "<class 'list'>\n"
     ]
    }
   ],
   "source": [
    "listc = [\"string\", 2, False ]\n",
    "print(listc)\n",
    "print(type(listc))"
   ]
  },
  {
   "attachments": {
    "index.png": {
     "image/png": "[encoded data removed]"
    }
   },
   "cell_type": "markdown",
   "metadata": {},
   "source": [
    "### List Elements Can Be Accessed by Index\n",
    "\n",
    "Individual elements in a list can be accessed using an index in square brackets. You should note that list indexing is zero based.See the image below:\n",
    "\n",
    "![index.png](attachment:index.png)"
   ]
  },
  {
   "cell_type": "code",
   "execution_count": 7,
   "metadata": {},
   "outputs": [],
   "source": [
    "listIndexExample = ['red', 'green', 'blue', 'yellow', 'white', 'black']"
   ]
  },
  {
   "cell_type": "markdown",
   "metadata": {},
   "source": [
    "Let us try to access the element with value 'blue'. We see that it is at the index 2."
   ]
  },
  {
   "cell_type": "code",
   "execution_count": 8,
   "metadata": {},
   "outputs": [
    {
     "data": {
      "text/plain": [
       "'blue'"
      ]
     },
     "execution_count": 8,
     "metadata": {},
     "output_type": "execute_result"
    }
   ],
   "source": [
    "listIndexExample[2]"
   ]
  },
  {
   "cell_type": "markdown",
   "metadata": {},
   "source": [
    "### Lists are mutable\n",
    "\n",
    "Most of the data types you have encountered so far have been atomic types. Integer or float objects, for example, are primitive units that can’t be further broken down. These types are immutable, meaning that they can’t be changed once they have been assigned. It doesn’t make much sense to think of changing the value of an integer. If you want a different integer, you just assign a different one.\n",
    "\n",
    "By contrast, the string type is a composite type. Strings are reducible to smaller parts—the component characters. It might make sense to think of changing the characters in a string. But you can’t. In Python, strings are also immutable.\n",
    "\n",
    "The list is the first mutable data type you have encountered. Once a list has been created, elements can be added, deleted, shifted, and moved around at will. Python provides a wide range of ways to modify lists.\n"
   ]
  }
 ],
 "metadata": {
  "kernelspec": {
   "display_name": "Python 3",
   "language": "python",
   "name": "python3"
  },
  "language_info": {
   "codemirror_mode": {
    "name": "ipython",
    "version": 3
   },
   "file_extension": ".py",
   "mimetype": "text/x-python",
   "name": "python",
   "nbconvert_exporter": "python",
   "pygments_lexer": "ipython3",
   "version": "3.8.5"
  }
 },
 "nbformat": 4,
 "nbformat_minor": 4
}
